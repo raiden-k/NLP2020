{
 "cells": [
  {
   "cell_type": "markdown",
   "metadata": {},
   "source": [
    "## 自然言語処理100本ノック"
   ]
  },
  {
   "cell_type": "markdown",
   "metadata": {},
   "source": [
    "## 第1章: 準備運動"
   ]
  },
  {
   "cell_type": "markdown",
   "metadata": {},
   "source": [
    "### 00. 文字列の逆順\n",
    "\n",
    "文字列”stressed”の文字を逆に（末尾から先頭に向かって）並べた文字列を得よ．"
   ]
  },
  {
   "cell_type": "code",
   "execution_count": 3,
   "metadata": {},
   "outputs": [],
   "source": [
    "input_strings = \" stressed\"\n",
    "output = \"\"\n",
    "for i in range(len(input_strings)):\n",
    "    output = output+input_strings[-1-i]"
   ]
  },
  {
   "cell_type": "code",
   "execution_count": 7,
   "metadata": {},
   "outputs": [
    {
     "data": {
      "text/plain": [
       "'パトカー'"
      ]
     },
     "execution_count": 7,
     "metadata": {},
     "output_type": "execute_result"
    }
   ],
   "source": [
    "output"
   ]
  },
  {
   "cell_type": "markdown",
   "metadata": {},
   "source": [
    "###  01. 「パタトクカシーー」\n",
    "\n",
    "「パタトクカシーー」という文字列の1,3,5,7文字目を取り出して連結した文字列を得よ．"
   ]
  },
  {
   "cell_type": "code",
   "execution_count": 8,
   "metadata": {},
   "outputs": [],
   "source": [
    "input_strings = \" パタトクカシーー\"\n",
    "#解1\n",
    "output = input_strings[1]+input_strings[3]+input_strings[5]+input_strings[7]"
   ]
  },
  {
   "cell_type": "code",
   "execution_count": 13,
   "metadata": {},
   "outputs": [
    {
     "name": "stdout",
     "output_type": "stream",
     "text": [
      "パトカー\n",
      "タクシー\n"
     ]
    }
   ],
   "source": [
    "print(input_strings[1::2]) #1,3,5,7 スライスの使い方を理解する\n",
    "print(input_strings[2::2]) #2,4,6,8"
   ]
  },
  {
   "cell_type": "markdown",
   "metadata": {},
   "source": [
    "###  02. 「パトカー」＋「タクシー」＝「パタトクカシーー」\n",
    "\n",
    "「パトカー」＋「タクシー」の文字を先頭から交互に連結して文字列「パタトクカシーー」を得よ．"
   ]
  },
  {
   "cell_type": "code",
   "execution_count": 16,
   "metadata": {},
   "outputs": [],
   "source": [
    "input_strings1 = \"パトカー\"\n",
    "input_strings2 = \"タクシー\"\n",
    "\n",
    "output = ''\n",
    "for i in range(len(input_strings1)):\n",
    "    #print(i)\n",
    "    output += input_strings1[i] +input_strings2[i] "
   ]
  },
  {
   "cell_type": "code",
   "execution_count": 17,
   "metadata": {},
   "outputs": [
    {
     "data": {
      "text/plain": [
       "'パタトクカシーー'"
      ]
     },
     "execution_count": 17,
     "metadata": {},
     "output_type": "execute_result"
    }
   ],
   "source": [
    "output"
   ]
  },
  {
   "cell_type": "markdown",
   "metadata": {},
   "source": [
    "###  03. 円周率\n",
    "\n",
    "“Now I need a drink, alcoholic of course, after the heavy lectures involving quantum mechanics.”\n",
    "という文を単語に分解し，各単語の（アルファベットの）文字数を先頭から出現順に並べたリストを作成せよ．"
   ]
  },
  {
   "cell_type": "code",
   "execution_count": 20,
   "metadata": {},
   "outputs": [
    {
     "name": "stdout",
     "output_type": "stream",
     "text": [
      "Now I need a drink, alcoholic of course, after the heavy lectures involving quantum mechanics.\n",
      "[3, 1, 4, 1, 6, 9, 2, 7, 5, 3, 5, 8, 9, 7, 10]\n"
     ]
    }
   ],
   "source": [
    "input_strings =\"Now I need a drink, alcoholic of course, after the heavy lectures involving quantum mechanics.\"\n",
    "\n",
    "length_list = [] \n",
    "# split()でスペースと改行で分割したリストから単語を取り出す\n",
    "for word in input_strings.split():\n",
    "    length_list.append(len(word))\n",
    "    #print(word)\n",
    "\n",
    "print(input_strings)\n",
    "print(length_list)"
   ]
  },
  {
   "cell_type": "code",
   "execution_count": 19,
   "metadata": {},
   "outputs": [],
   "source": [
    "##最後のmechanicsは「.」込でなっているのでどなたかトライしてみてください"
   ]
  },
  {
   "cell_type": "markdown",
   "metadata": {},
   "source": [
    "### 04. 元素記号\n",
    "- \"Hi He Lied Because Boron Could Not Oxidize Fluorine. New Nations Might Also Sign Peace Security Clause. Arthur King Can.”という文を単語に分解し，1, 5, 6, 7, 8, 9, 15, 16, 19番目の単語は先頭の1文字，それ以外の単語は先頭に2文字を取り出し，取り出した文字列から単語の位置（先頭から何番目の単語か）への連想配列（辞書型もしくはマップ型）を作成せよ．"
   ]
  },
  {
   "cell_type": "code",
   "execution_count": 22,
   "metadata": {},
   "outputs": [
    {
     "data": {
      "text/plain": [
       "{'H': 0,\n",
       " 'He': 1,\n",
       " 'Li': 2,\n",
       " 'Be': 3,\n",
       " 'B': 4,\n",
       " 'C': 5,\n",
       " 'N': 6,\n",
       " 'O': 7,\n",
       " 'F': 8,\n",
       " 'Ne': 9,\n",
       " 'Na': 10,\n",
       " 'Mi': 11,\n",
       " 'Al': 12,\n",
       " 'Si': 13,\n",
       " 'P': 14,\n",
       " 'S': 15,\n",
       " 'Cl': 16,\n",
       " 'Ar': 17,\n",
       " 'K': 18,\n",
       " 'Ca': 19}"
      ]
     },
     "execution_count": 22,
     "metadata": {},
     "output_type": "execute_result"
    }
   ],
   "source": [
    "data =\"Hi He Lied Because Boron Could Not Oxidize Fluorine. New Nations Might Also Sign Peace Security Clause. Arthur King Can.\"\n",
    "output ={} #dict\n",
    "\n",
    "#for文のenumerateの使い方を覚える\n",
    "#zip, rangeとかも頑張って覚える\n",
    "#enumerate index,word\n",
    "\n",
    "word_pos = [0,4,5,6,7,8,14,15,18]\n",
    "for i,word in enumerate(data.split()):\n",
    "    if i in word_pos:\n",
    "        #print(i, word[0])\n",
    "        output[word[0]] = i\n",
    "    else:\n",
    "        #print(i, word[0:2])\n",
    "        output[word[0:2]] = i\n",
    "output"
   ]
  },
  {
   "cell_type": "markdown",
   "metadata": {},
   "source": [
    "### 05. n-gram\n",
    "\n",
    "与えられたシーケンス（文字列やリストなど）からn-gramを作る関数を作成せよ．この関数を用い，”I am an NLPer”という文から単語bi-gram，文字bi-gramを得よ．"
   ]
  },
  {
   "cell_type": "code",
   "execution_count": 26,
   "metadata": {},
   "outputs": [
    {
     "name": "stdout",
     "output_type": "stream",
     "text": [
      "文字: ['I a', 'm a', 'n N', 'LPe', 'r']\n",
      "word: [['I', 'am', 'an'], ['NLPer']]\n"
     ]
    }
   ],
   "source": [
    "#N-gramを理解する\n",
    "#後端の処理は気をつける。\n",
    "\n",
    "def get_ngram(N, input_str):\n",
    "    '''\n",
    "    Nの値で入力データを分割してリストに格納する機能\n",
    "    '''\n",
    "    x = []\n",
    "    for idx in range(int((len(input_str)+N-1)/N)): ##末尾は余っても計算する\n",
    "        start = N*idx\n",
    "        end = N*idx+N\n",
    "        str_list = input_str[start:end]   \n",
    "        x.append(str_list)\n",
    "    return x\n",
    "\n",
    "data = \"I am an NLPer\"\n",
    "words = data.split()\n",
    "\n",
    "Ngram = 3\n",
    "print('文字:', get_ngram(Ngram, data))\n",
    "print('word:', get_ngram(Ngram, words))"
   ]
  },
  {
   "cell_type": "markdown",
   "metadata": {},
   "source": [
    "### 06. 集合\n",
    "“paraparaparadise”と”paragraph”に含まれる文字bi-gramの集合を，それぞれ, XとYとして求め，XとYの和集合，積集合，差集合を求めよ．さらに，’se’というbi-gramがXおよびYに含まれるかどうかを調べよ．"
   ]
  },
  {
   "cell_type": "code",
   "execution_count": 34,
   "metadata": {},
   "outputs": [
    {
     "name": "stdout",
     "output_type": "stream",
     "text": [
      "X: ['pa', 'ra', 'pa', 'ra', 'pa', 'ra', 'di', 'se']\n",
      "Y: ['pa', 'ra', 'gr', 'ap', 'h']\n"
     ]
    }
   ],
   "source": [
    "def get_ngram(N, input_str):\n",
    "    '''\n",
    "    Nの値で入力データを分割してリストに格納する機能\n",
    "    '''\n",
    "    x = []\n",
    "    for idx in range(int((len(input_str)+N-1)/N)): ##末尾は余っても計算する\n",
    "        start = N*idx\n",
    "        end = N*idx+N\n",
    "        str_list = input_str[start:end]   \n",
    "        x.append(str_list)\n",
    "    return x\n",
    "\n",
    "inputX = 'paraparaparadise'\n",
    "inputY = 'paragraph'\n",
    "\n",
    "#“paraparaparadise”と”paragraph”に含まれる文字bi-gramの集合 X、Yを求める\n",
    "Ngram = 2\n",
    "X = get_ngram(Ngram, inputX)\n",
    "Y = get_ngram(Ngram, inputY)\n",
    "\n",
    "print('X:',X)\n",
    "print('Y:',Y)"
   ]
  },
  {
   "cell_type": "code",
   "execution_count": 32,
   "metadata": {},
   "outputs": [
    {
     "name": "stdout",
     "output_type": "stream",
     "text": [
      "inputX: paraparaparadise\n",
      "inputY: paragraph\n",
      "和集合: {'se', 'gr', 'h', 'ra', 'pa', 'di', 'ap'}\n",
      "積集合: {'ra', 'pa'}\n",
      "Xの差集合: {'se', 'di'}\n",
      "Yの差集合: {'ap', 'gr', 'h'}\n"
     ]
    }
   ],
   "source": [
    "# XとYの和集合，積集合，差集合を求めよ\n",
    "X_set = set(X)\n",
    "Y_set = set(Y)\n",
    "\n",
    "print('inputX:', inputX)\n",
    "print('inputY:', inputY)\n",
    "#和集合\n",
    "print('和集合:', X_set | Y_set)\n",
    "#積集合\n",
    "print('積集合:', X_set & Y_set)\n",
    "#差集合\n",
    "#Xの差集合\n",
    "print('Xの差集合:', X_set - Y_set)\n",
    "#Yの差集合\n",
    "print('Yの差集合:', Y_set - X_set)"
   ]
  },
  {
   "cell_type": "code",
   "execution_count": 37,
   "metadata": {},
   "outputs": [
    {
     "name": "stdout",
     "output_type": "stream",
     "text": [
      "X_set: False\n",
      "Y_set: True\n"
     ]
    }
   ],
   "source": [
    "#'se'というbi-gramがXおよびYに含まれるかどうかを調べよ．\n",
    "#集合が素であるかを確認する、素なら含まれてない,True\n",
    "moji = {'se'}\n",
    "print('X_set:', X_set.isdisjoint(moji))\n",
    "print('Y_set:', Y_set.isdisjoint(moji))"
   ]
  },
  {
   "cell_type": "markdown",
   "metadata": {},
   "source": [
    "### 07. テンプレートによる文生成\n",
    "\n",
    "引数x, y, zを受け取り「x時のyはz」という文字列を返す関数を実装せよ．さらに，x=12, y=”気温”, z=22.4として，実行結果を確認せよ．"
   ]
  },
  {
   "cell_type": "code",
   "execution_count": 40,
   "metadata": {},
   "outputs": [
    {
     "data": {
      "text/plain": [
       "'12時の気温は22.4'"
      ]
     },
     "execution_count": 40,
     "metadata": {},
     "output_type": "execute_result"
    }
   ],
   "source": [
    "def getClock(x, y, z):\n",
    "    return (\"%d時の%sは%.1f\" % (x, y, z))\n",
    "\n",
    "getClock(12, \"気温\", 22.4)"
   ]
  },
  {
   "cell_type": "markdown",
   "metadata": {},
   "source": [
    "### 08. 暗号文\n",
    "\n",
    "与えられた文字列の各文字を，以下の仕様で変換する関数cipherを実装せよ．\n",
    "\n",
    "    英小文字ならば(219 - 文字コード)の文字に置換\n",
    "    その他の文字はそのまま出力\n",
    "\n",
    "この関数を用い，英語のメッセージを暗号化・復号化せよ．"
   ]
  },
  {
   "cell_type": "markdown",
   "metadata": {},
   "source": [
    "文字列のmethodのord,chrを使って処理する"
   ]
  },
  {
   "cell_type": "code",
   "execution_count": 41,
   "metadata": {},
   "outputs": [],
   "source": [
    "def cipher(s):\n",
    "    cvt_words = \"\"\n",
    "    for _s in s:\n",
    "        if _s.islower():\n",
    "            cipher_word = chr(219 - ord(_s))\n",
    "            cvt_words = cvt_words + cipher_word\n",
    "        else:\n",
    "            cvt_words = cvt_words + _s\n",
    "        #print(_s, ord(_s), _s.islower())\n",
    "    print('before:', s)\n",
    "    print('after :', cvt_words)\n",
    "    return cvt_words   "
   ]
  },
  {
   "cell_type": "code",
   "execution_count": 43,
   "metadata": {},
   "outputs": [
    {
     "name": "stdout",
     "output_type": "stream",
     "text": [
      "before: s\n",
      "after : h\n",
      "before: h\n",
      "after : s\n"
     ]
    }
   ],
   "source": [
    "t = cipher('s')\n",
    "t = cipher(t) #もう１回やると元に戻る"
   ]
  },
  {
   "cell_type": "markdown",
   "metadata": {},
   "source": [
    "### 09. Typoglycemia\n",
    "\n",
    "スペースで区切られた単語列に対して，各単語の先頭と末尾の文字は残し，それ以外の文字の順序をランダムに並び替えるプログラムを作成せよ．ただし，長さが４以下の単語は並び替えないこととする．適当な英語の文（例えば”I couldn’t believe that I could actually understand what I was reading : the phenomenal power of the human mind .”）を与え，その実行結果を確認せよ．"
   ]
  },
  {
   "cell_type": "code",
   "execution_count": 44,
   "metadata": {},
   "outputs": [],
   "source": [
    "input1 = \"I couldn't believe that I could actually understand what I was reading : the phenomenal power of the human mind .\""
   ]
  },
  {
   "cell_type": "code",
   "execution_count": 45,
   "metadata": {},
   "outputs": [
    {
     "name": "stdout",
     "output_type": "stream",
     "text": [
      "I couldn't believe that I could actually understand what I was reading : the phenomenal power of the human mind .\n",
      "I cdo'nlut bieleve that I cluod atlluacy unndestard what I was rdaneig : the panhemeonl power of the haumn mind .\n"
     ]
    }
   ],
   "source": [
    "import random\n",
    "sent_list = []\n",
    "length = 4\n",
    "\n",
    "for _word in input1.split():\n",
    "   \n",
    "    if len(_word) > length:\n",
    "        sr = ''.join(random.sample(_word[1:-1], len(_word[1:-1])))\n",
    "        encrypt_word = _word[0] + sr + _word[-1]\n",
    "        #print(encrypt_word)\n",
    "        sent_list.append(encrypt_word)    \n",
    "    else:\n",
    "        #print(_word)\n",
    "        sent_list.append(_word)\n",
    "sent_list\n",
    "output = ' '.join(sent_list)\n",
    "print(input1)\n",
    "print(output)"
   ]
  },
  {
   "cell_type": "markdown",
   "metadata": {},
   "source": [
    "done"
   ]
  }
 ],
 "metadata": {
  "kernelspec": {
   "display_name": "Python 3",
   "language": "python",
   "name": "python3"
  },
  "language_info": {
   "codemirror_mode": {
    "name": "ipython",
    "version": 3
   },
   "file_extension": ".py",
   "mimetype": "text/x-python",
   "name": "python",
   "nbconvert_exporter": "python",
   "pygments_lexer": "ipython3",
   "version": "3.7.7"
  }
 },
 "nbformat": 4,
 "nbformat_minor": 4
}
